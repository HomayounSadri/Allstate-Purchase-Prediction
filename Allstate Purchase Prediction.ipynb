{
 "cells": [
  {
   "cell_type": "code",
   "execution_count": 6,
   "metadata": {},
   "outputs": [],
   "source": [
    "from sklearn.cross_validation import cross_val_score\n",
    "\n",
    "from sklearn.cross_validation import KFold\n",
    "\n",
    "from sklearn.linear_model import LogisticRegression\n",
    "\n",
    "from sklearn.ensemble import RandomForestClassifier\n",
    "\n",
    "from sklearn.model_selection import train_test_split\n",
    "\n",
    "from sklearn import metrics\n",
    "\n",
    "import matplotlib.pyplot as plt\n",
    "\n",
    "import numpy as np\n",
    "\n",
    "import pandas as pd\n",
    "\n",
    "from sklearn.neighbors import KNeighborsClassifier"
   ]
  },
  {
   "cell_type": "markdown",
   "metadata": {},
   "source": [
    "## Data Import and Pre-Preocessing ##"
   ]
  },
  {
   "cell_type": "code",
   "execution_count": 10,
   "metadata": {},
   "outputs": [
    {
     "data": {
      "text/plain": [
       "(665249, 24)"
      ]
     },
     "execution_count": 10,
     "metadata": {},
     "output_type": "execute_result"
    }
   ],
   "source": [
    "df = pd.read_csv('/Users/homayounsadri/Documents/Education/Stevens/Courses/CS559_Machine Learning/Project/Data/train.csv').iloc[:, 1:25]\n",
    "df.shape"
   ]
  },
  {
   "cell_type": "code",
   "execution_count": 11,
   "metadata": {},
   "outputs": [
    {
     "data": {
      "text/plain": [
       "(97009, 24)"
      ]
     },
     "execution_count": 11,
     "metadata": {},
     "output_type": "execute_result"
    }
   ],
   "source": [
    "purchased_df = df[df['record_type']==1]\n",
    "purchased_df.shape"
   ]
  },
  {
   "cell_type": "code",
   "execution_count": 12,
   "metadata": {
    "collapsed": true
   },
   "outputs": [],
   "source": [
    "features = [ 'shopping_pt',  'day', 'state',\n",
    " 'location', 'group_size', 'homeowner', 'car_age', 'car_value', 'risk_factor',\n",
    " 'age_oldest', 'age_youngest', 'married_couple', 'C_previous', 'duration_previous']\n",
    "\n",
    "targets = ['A','B','C','D','E','F','G']\n",
    "\n",
    "X = purchased_df[features]\n",
    "y = purchased_df[targets]\n"
   ]
  },
  {
   "cell_type": "code",
   "execution_count": 13,
   "metadata": {
    "scrolled": true
   },
   "outputs": [
    {
     "name": "stderr",
     "output_type": "stream",
     "text": [
      "/Users/homayounsadri/anaconda/lib/python3.6/site-packages/ipykernel/__main__.py:1: SettingWithCopyWarning: \n",
      "A value is trying to be set on a copy of a slice from a DataFrame.\n",
      "Try using .loc[row_indexer,col_indexer] = value instead\n",
      "\n",
      "See the caveats in the documentation: http://pandas.pydata.org/pandas-docs/stable/indexing.html#indexing-view-versus-copy\n",
      "  if __name__ == '__main__':\n",
      "/Users/homayounsadri/anaconda/lib/python3.6/site-packages/ipykernel/__main__.py:2: SettingWithCopyWarning: \n",
      "A value is trying to be set on a copy of a slice from a DataFrame.\n",
      "Try using .loc[row_indexer,col_indexer] = value instead\n",
      "\n",
      "See the caveats in the documentation: http://pandas.pydata.org/pandas-docs/stable/indexing.html#indexing-view-versus-copy\n",
      "  from ipykernel import kernelapp as app\n",
      "/Users/homayounsadri/anaconda/lib/python3.6/site-packages/ipykernel/__main__.py:3: SettingWithCopyWarning: \n",
      "A value is trying to be set on a copy of a slice from a DataFrame.\n",
      "Try using .loc[row_indexer,col_indexer] = value instead\n",
      "\n",
      "See the caveats in the documentation: http://pandas.pydata.org/pandas-docs/stable/indexing.html#indexing-view-versus-copy\n",
      "  app.launch_new_instance()\n"
     ]
    }
   ],
   "source": [
    "X['state'] = pd.factorize(X['state'])[0]\n",
    "X['car_value'] = pd.factorize(X['car_value'])[0]\n",
    "X['location'] = pd.factorize(X['location'])[0]\n",
    "\n"
   ]
  },
  {
   "cell_type": "code",
   "execution_count": 14,
   "metadata": {},
   "outputs": [
    {
     "name": "stderr",
     "output_type": "stream",
     "text": [
      "/Users/homayounsadri/anaconda/lib/python3.6/site-packages/ipykernel/__main__.py:1: SettingWithCopyWarning: \n",
      "A value is trying to be set on a copy of a slice from a DataFrame.\n",
      "Try using .loc[row_indexer,col_indexer] = value instead\n",
      "\n",
      "See the caveats in the documentation: http://pandas.pydata.org/pandas-docs/stable/indexing.html#indexing-view-versus-copy\n",
      "  if __name__ == '__main__':\n",
      "/Users/homayounsadri/anaconda/lib/python3.6/site-packages/ipykernel/__main__.py:2: SettingWithCopyWarning: \n",
      "A value is trying to be set on a copy of a slice from a DataFrame.\n",
      "Try using .loc[row_indexer,col_indexer] = value instead\n",
      "\n",
      "See the caveats in the documentation: http://pandas.pydata.org/pandas-docs/stable/indexing.html#indexing-view-versus-copy\n",
      "  from ipykernel import kernelapp as app\n",
      "/Users/homayounsadri/anaconda/lib/python3.6/site-packages/ipykernel/__main__.py:3: SettingWithCopyWarning: \n",
      "A value is trying to be set on a copy of a slice from a DataFrame.\n",
      "Try using .loc[row_indexer,col_indexer] = value instead\n",
      "\n",
      "See the caveats in the documentation: http://pandas.pydata.org/pandas-docs/stable/indexing.html#indexing-view-versus-copy\n",
      "  app.launch_new_instance()\n"
     ]
    }
   ],
   "source": [
    "X['risk_factor'] = X['risk_factor'].fillna(5)\n",
    "X['C_previous'] = X['C_previous'].fillna(0)\n",
    "X['duration_previous'] = X['duration_previous'].fillna(0)\n"
   ]
  },
  {
   "cell_type": "markdown",
   "metadata": {},
   "source": [
    "## Train-Test Split##"
   ]
  },
  {
   "cell_type": "code",
   "execution_count": 15,
   "metadata": {
    "collapsed": true
   },
   "outputs": [],
   "source": [
    "X_train, X_test, y_train, y_test = train_test_split(X, y,test_size = 0.5, random_state=1)\n",
    "X_cv, X_test, y_cv, y_test = train_test_split(X_test, y_test, test_size = 0.5, random_state=1)"
   ]
  },
  {
   "cell_type": "markdown",
   "metadata": {},
   "source": [
    "## KNN Baseline"
   ]
  },
  {
   "cell_type": "code",
   "execution_count": 16,
   "metadata": {},
   "outputs": [
    {
     "data": {
      "image/png": "[encoded data removed]",
      "text/plain": [
       "<matplotlib.figure.Figure at 0x1052360b8>"
      ]
     },
     "metadata": {},
     "output_type": "display_data"
    }
   ],
   "source": [
    "knn = KNeighborsClassifier(n_neighbors=5)\n",
    "\n",
    "knn.fit(X_train, y_train)\n",
    "\n",
    "y_pred = knn.predict(X_test)\n",
    "\n",
    "#y_pred.shape\n",
    "\n",
    "\n",
    "#for i in range(len(targets)):\n",
    "#    print(\"\\nPredictor \", targets[i])\n",
    "#    print(metrics.classification_report(y_test[targets[i]], y_pred[:,i]))\n",
    "\n",
    "score=[metrics.accuracy_score(y_test[targets[i]], y_pred[:,i]) for i in range(len(targets))]\n",
    "index=np.arange(len(targets))\n",
    "label=list(targets)\n",
    "plt.bar(index,score,color='y')\n",
    "plt.xticks(index+0.5, label, rotation='horizontal')\n",
    "plt.xlabel('Target')\n",
    "plt.ylabel('Score')\n",
    "plt.title('Baseline K = 5, Score = %f'%np.mean(score))\n",
    "plt.grid()\n",
    "plt.show()"
   ]
  },
  {
   "cell_type": "markdown",
   "metadata": {},
   "source": [
    "## KNN Feature Tuning"
   ]
  },
  {
   "cell_type": "code",
   "execution_count": 18,
   "metadata": {
    "scrolled": false
   },
   "outputs": [
    {
     "data": {
      "image/png": "[encoded data removed]",
      "text/plain": [
       "<matplotlib.figure.Figure at 0x110372470>"
      ]
     },
     "metadata": {},
     "output_type": "display_data"
    }
   ],
   "source": [
    "# try K=1 through K=35 and record testing accuracy\n",
    "k_range = range(1, 35)\n",
    "score_over_k =[]\n",
    "\n",
    "for k in k_range:\n",
    "    knn = KNeighborsClassifier(n_neighbors=k)\n",
    "    knn.fit(X_train, y_train)\n",
    "    y_pred = knn.predict(X_cv)\n",
    "    \n",
    "#    for i in range(len(targets)):\n",
    "#        print(\"\\nPredictor \", targets[i])\n",
    "#        print(metrics.classification_report(y_test[targets[i]], y_pred[:,i]))\n",
    "     \n",
    "    score=[metrics.accuracy_score(y_cv[targets[i]], y_pred[:,i]) for i in range(len(targets))]\n",
    "    \n",
    "    score_over_k.append(np.mean(score))\n",
    "    \n",
    "\n",
    "plt.plot(score_over_k)\n",
    "\n",
    "plt.xlabel('K')\n",
    "plt.ylabel('Score')\n",
    "plt.grid()\n",
    "plt.show()"
   ]
  },
  {
   "cell_type": "code",
   "execution_count": 19,
   "metadata": {},
   "outputs": [
    {
     "name": "stderr",
     "output_type": "stream",
     "text": [
      "/Users/homayounsadri/anaconda/lib/python3.6/site-packages/matplotlib/legend.py:634: UserWarning: Legend does not support 't' instances.\n",
      "A proxy artist may be used instead.\n",
      "See: http://matplotlib.org/users/legend_guide.html#using-proxy-artist\n",
      "  \"#using-proxy-artist\".format(orig_handle)\n",
      "/Users/homayounsadri/anaconda/lib/python3.6/site-packages/matplotlib/legend.py:634: UserWarning: Legend does not support 'r' instances.\n",
      "A proxy artist may be used instead.\n",
      "See: http://matplotlib.org/users/legend_guide.html#using-proxy-artist\n",
      "  \"#using-proxy-artist\".format(orig_handle)\n",
      "/Users/homayounsadri/anaconda/lib/python3.6/site-packages/matplotlib/legend.py:634: UserWarning: Legend does not support 'a' instances.\n",
      "A proxy artist may be used instead.\n",
      "See: http://matplotlib.org/users/legend_guide.html#using-proxy-artist\n",
      "  \"#using-proxy-artist\".format(orig_handle)\n",
      "/Users/homayounsadri/anaconda/lib/python3.6/site-packages/matplotlib/legend.py:634: UserWarning: Legend does not support 'i' instances.\n",
      "A proxy artist may be used instead.\n",
      "See: http://matplotlib.org/users/legend_guide.html#using-proxy-artist\n",
      "  \"#using-proxy-artist\".format(orig_handle)\n",
      "/Users/homayounsadri/anaconda/lib/python3.6/site-packages/matplotlib/legend.py:634: UserWarning: Legend does not support 'n' instances.\n",
      "A proxy artist may be used instead.\n",
      "See: http://matplotlib.org/users/legend_guide.html#using-proxy-artist\n",
      "  \"#using-proxy-artist\".format(orig_handle)\n"
     ]
    },
    {
     "data": {
      "image/png": "[encoded data removed]",
      "text/plain": [
       "<matplotlib.figure.Figure at 0x1103e0400>"
      ]
     },
     "metadata": {},
     "output_type": "display_data"
    }
   ],
   "source": [
    "score_over_train =[]\n",
    "score_over_cv = []\n",
    "\n",
    "# we don't expect the score diverge, b.c. we're reducing the complexity of model, like k in knn\n",
    "\n",
    "for i in range(1,35):\n",
    "    knn = KNeighborsClassifier(n_neighbors = i)\n",
    "\n",
    "    knn = knn.fit(X_train, y_train)\n",
    "\n",
    "    y_pred_cv = knn.predict(X_cv)\n",
    "\n",
    "    score_cv=[metrics.accuracy_score(y_cv[targets[i]], y_pred_cv[:,i]) for i in range(len(targets))]\n",
    "    \n",
    "    y_pred_train = knn.predict(X_train)\n",
    "    \n",
    "    score_train=[metrics.accuracy_score(y_train[targets[i]], y_pred_train[:,i]) for i in range(len(targets))]\n",
    "    \n",
    "    score_over_train.append(np.mean(score_train))\n",
    "    score_over_cv.append(np.mean(score_cv))\n",
    "\n",
    "plt.plot(range(1,35),score_over_train,'r',range(1,35),score_over_cv,'b')\n",
    "plt.legend('train','cross validation')\n",
    "plt.xlabel('Number of estimators')\n",
    "plt.ylabel('Score')\n",
    "plt.grid()\n",
    "plt.show()"
   ]
  },
  {
   "cell_type": "markdown",
   "metadata": {},
   "source": [
    "## KNN Optimized"
   ]
  },
  {
   "cell_type": "code",
   "execution_count": 21,
   "metadata": {
    "scrolled": true
   },
   "outputs": [
    {
     "name": "stdout",
     "output_type": "stream",
     "text": [
      "\n",
      "Predictor  A\n",
      "             precision    recall  f1-score   support\n",
      "\n",
      "          0       0.77      0.19      0.31      5384\n",
      "          1       0.64      0.98      0.78     14897\n",
      "          2       0.38      0.01      0.02      3972\n",
      "\n",
      "avg / total       0.63      0.65      0.55     24253\n",
      "\n",
      "\n",
      "Predictor  B\n",
      "             precision    recall  f1-score   support\n",
      "\n",
      "          0       0.58      0.60      0.59     12684\n",
      "          1       0.54      0.51      0.53     11569\n",
      "\n",
      "avg / total       0.56      0.56      0.56     24253\n",
      "\n",
      "\n",
      "Predictor  C\n",
      "             precision    recall  f1-score   support\n",
      "\n",
      "          1       0.43      0.50      0.46      7155\n",
      "          2       0.30      0.12      0.17      5015\n",
      "          3       0.47      0.67      0.55      9676\n",
      "          4       0.26      0.01      0.03      2407\n",
      "\n",
      "avg / total       0.40      0.44      0.39     24253\n",
      "\n",
      "\n",
      "Predictor  D\n",
      "             precision    recall  f1-score   support\n",
      "\n",
      "          1       0.42      0.05      0.09      3145\n",
      "          2       0.38      0.07      0.12      5324\n",
      "          3       0.67      0.97      0.79     15784\n",
      "\n",
      "avg / total       0.57      0.65      0.55     24253\n",
      "\n",
      "\n",
      "Predictor  E\n",
      "             precision    recall  f1-score   support\n",
      "\n",
      "          0       0.64      0.64      0.64     13087\n",
      "          1       0.58      0.58      0.58     11166\n",
      "\n",
      "avg / total       0.61      0.61      0.61     24253\n",
      "\n",
      "\n",
      "Predictor  F\n",
      "             precision    recall  f1-score   support\n",
      "\n",
      "          0       0.56      0.55      0.55      7813\n",
      "          1       0.37      0.25      0.30      5942\n",
      "          2       0.46      0.63      0.53      9089\n",
      "          3       0.00      0.00      0.00      1409\n",
      "\n",
      "avg / total       0.44      0.47      0.45     24253\n",
      "\n",
      "\n",
      "Predictor  G\n",
      "             precision    recall  f1-score   support\n",
      "\n",
      "          1       0.44      0.30      0.35      5071\n",
      "          2       0.48      0.59      0.53      9441\n",
      "          3       0.46      0.55      0.50      7592\n",
      "          4       0.41      0.01      0.03      2149\n",
      "\n",
      "avg / total       0.46      0.47      0.44     24253\n",
      "\n"
     ]
    },
    {
     "data": {
      "image/png": "[encoded data removed]",
      "text/plain": [
       "<matplotlib.figure.Figure at 0x1100a03c8>"
      ]
     },
     "metadata": {},
     "output_type": "display_data"
    }
   ],
   "source": [
    "knn = KNeighborsClassifier(n_neighbors=29)\n",
    "\n",
    "knn.fit(X_train, y_train)\n",
    "\n",
    "y_pred = knn.predict(X_test)\n",
    "\n",
    "#y_pred.shape\n",
    "\n",
    "\n",
    "for i in range(len(targets)):\n",
    "    print(\"\\nPredictor \", targets[i])\n",
    "    print(metrics.classification_report(y_test[targets[i]], y_pred[:,i]))\n",
    "\n",
    "score=[metrics.accuracy_score(y_test[targets[i]], y_pred[:,i]) for i in range(len(targets))]\n",
    "index=np.arange(len(targets))\n",
    "label=list(targets)\n",
    "plt.bar(index,score,color='y')\n",
    "plt.xticks(index+0.5, label, rotation='horizontal')\n",
    "plt.xlabel('Target')\n",
    "plt.ylabel('Score')\n",
    "plt.title('Baseline K = 29, Score = %f'%np.mean(score))\n",
    "plt.grid()\n",
    "plt.show()"
   ]
  },
  {
   "cell_type": "code",
   "execution_count": 22,
   "metadata": {},
   "outputs": [
    {
     "data": {
      "image/png": "[encoded data removed]",
      "text/plain": [
       "<matplotlib.figure.Figure at 0x1120d76a0>"
      ]
     },
     "metadata": {},
     "output_type": "display_data"
    }
   ],
   "source": [
    "score=[metrics.accuracy_score(y_test[targets[i]], y_pred[:,i]) for i in range(len(targets))]\n",
    "index=np.arange(len(targets))\n",
    "label=list(targets)\n",
    "plt.bar(index,score,color='y')\n",
    "plt.xticks(index+0.5, label, rotation='horizontal')\n",
    "plt.xlabel('Target')\n",
    "plt.ylabel('Score')\n",
    "plt.title('K = 29, Score = %f'%np.mean(score))\n",
    "plt.grid()\n",
    "plt.show()"
   ]
  },
  {
   "cell_type": "markdown",
   "metadata": {},
   "source": [
    "## Random Forest Baseline"
   ]
  },
  {
   "cell_type": "code",
   "execution_count": 23,
   "metadata": {
    "scrolled": true
   },
   "outputs": [
    {
     "name": "stdout",
     "output_type": "stream",
     "text": [
      "\n",
      "Predictor  A\n",
      "             precision    recall  f1-score   support\n",
      "\n",
      "          0       0.71      0.60      0.65      5384\n",
      "          1       0.70      0.93      0.80     14897\n",
      "          2       0.00      0.00      0.00      3972\n",
      "\n",
      "avg / total       0.59      0.70      0.63     24253\n",
      "\n",
      "\n",
      "Predictor  B\n",
      "             precision    recall  f1-score   support\n",
      "\n",
      "          0       0.56      0.67      0.61     12684\n",
      "          1       0.54      0.43      0.48     11569\n",
      "\n",
      "avg / total       0.55      0.56      0.55     24253\n",
      "\n",
      "\n",
      "Predictor  C\n",
      "             precision    recall  f1-score   support\n",
      "\n",
      "          1       0.68      0.72      0.70      7155\n",
      "          2       0.69      0.33      0.44      5015\n",
      "          3       0.63      0.91      0.75      9676\n",
      "          4       0.87      0.14      0.24      2407\n",
      "\n",
      "avg / total       0.68      0.66      0.62     24253\n",
      "\n",
      "\n",
      "Predictor  D\n",
      "             precision    recall  f1-score   support\n",
      "\n",
      "          1       0.57      0.00      0.01      3145\n",
      "          2       0.00      0.00      0.00      5324\n",
      "          3       0.65      1.00      0.79     15784\n",
      "\n",
      "avg / total       0.50      0.65      0.51     24253\n",
      "\n",
      "\n",
      "Predictor  E\n",
      "             precision    recall  f1-score   support\n",
      "\n",
      "          0       0.69      0.64      0.66     13087\n",
      "          1       0.61      0.66      0.63     11166\n",
      "\n",
      "avg / total       0.65      0.65      0.65     24253\n",
      "\n",
      "\n",
      "Predictor  F\n",
      "             precision    recall  f1-score   support\n",
      "\n",
      "          0       0.70      0.81      0.75      7813\n",
      "          1       0.00      0.00      0.00      5942\n",
      "          2       0.50      0.84      0.63      9089\n",
      "          3       0.00      0.00      0.00      1409\n",
      "\n",
      "avg / total       0.41      0.58      0.48     24253\n",
      "\n",
      "\n",
      "Predictor  G\n",
      "             precision    recall  f1-score   support\n",
      "\n",
      "          1       0.69      0.01      0.02      5071\n",
      "          2       0.47      0.78      0.59      9441\n",
      "          3       0.48      0.54      0.51      7592\n",
      "          4       0.00      0.00      0.00      2149\n",
      "\n",
      "avg / total       0.48      0.48      0.39     24253\n",
      "\n"
     ]
    },
    {
     "name": "stderr",
     "output_type": "stream",
     "text": [
      "/Users/homayounsadri/anaconda/lib/python3.6/site-packages/sklearn/metrics/classification.py:1113: UndefinedMetricWarning: Precision and F-score are ill-defined and being set to 0.0 in labels with no predicted samples.\n",
      "  'precision', 'predicted', average, warn_for)\n"
     ]
    },
    {
     "data": {
      "image/png": "[encoded data removed]",
      "text/plain": [
       "<matplotlib.figure.Figure at 0x1128cbb00>"
      ]
     },
     "metadata": {},
     "output_type": "display_data"
    }
   ],
   "source": [
    "#Need to run the split right before\n",
    "\n",
    "clf_rf = RandomForestClassifier(n_estimators=10, max_depth = 5)\n",
    "\n",
    "clf_rf = clf_rf.fit(X_train, y_train)\n",
    "\n",
    "y_pred = clf_rf.predict(X_test)\n",
    "\n",
    "y_pred.shape\n",
    "\n",
    "for i in range(len(targets)):\n",
    "    print(\"\\nPredictor \", targets[i])\n",
    "    print(metrics.classification_report(y_test[targets[i]], y_pred[:,i]))\n",
    "\n",
    "score=[metrics.accuracy_score(y_test[targets[i]], y_pred[:,i]) for i in range(len(targets))]\n",
    "index=np.arange(len(targets))\n",
    "label=list(targets)\n",
    "plt.bar(index,score,color='y')\n",
    "plt.xticks(index+0.5, label, rotation='horizontal')\n",
    "plt.xlabel('Target')\n",
    "plt.ylabel('Score')\n",
    "plt.title('Baseline n_estimators=10, max_depth = 5, Score = %f'%np.mean(score))\n",
    "\n",
    "plt.grid()\n",
    "plt.show()"
   ]
  },
  {
   "cell_type": "code",
   "execution_count": 24,
   "metadata": {},
   "outputs": [
    {
     "data": {
      "image/png": "[encoded data removed]",
      "text/plain": [
       "<matplotlib.figure.Figure at 0x11208b400>"
      ]
     },
     "metadata": {},
     "output_type": "display_data"
    }
   ],
   "source": [
    "score=[metrics.accuracy_score(y_test[targets[i]], y_pred[:,i]) for i in range(len(targets))]\n",
    "index=np.arange(len(targets))\n",
    "label=list(targets)\n",
    "plt.bar(index,score,color='y')\n",
    "plt.xticks(index+0.5, label, rotation='horizontal')\n",
    "plt.xlabel('Target')\n",
    "plt.ylabel('Score')\n",
    "plt.title('Baseline Number of Trees=10, Maximum Depth = 5, Score = %f'%np.mean(score))\n",
    "\n",
    "plt.grid()\n",
    "plt.show()"
   ]
  },
  {
   "cell_type": "markdown",
   "metadata": {},
   "source": [
    "## Randon Forest - Feature Tuning "
   ]
  },
  {
   "cell_type": "code",
   "execution_count": 25,
   "metadata": {},
   "outputs": [
    {
     "name": "stderr",
     "output_type": "stream",
     "text": [
      "/Users/homayounsadri/anaconda/lib/python3.6/site-packages/matplotlib/legend.py:634: UserWarning: Legend does not support 't' instances.\n",
      "A proxy artist may be used instead.\n",
      "See: http://matplotlib.org/users/legend_guide.html#using-proxy-artist\n",
      "  \"#using-proxy-artist\".format(orig_handle)\n",
      "/Users/homayounsadri/anaconda/lib/python3.6/site-packages/matplotlib/legend.py:634: UserWarning: Legend does not support 'r' instances.\n",
      "A proxy artist may be used instead.\n",
      "See: http://matplotlib.org/users/legend_guide.html#using-proxy-artist\n",
      "  \"#using-proxy-artist\".format(orig_handle)\n",
      "/Users/homayounsadri/anaconda/lib/python3.6/site-packages/matplotlib/legend.py:634: UserWarning: Legend does not support 'a' instances.\n",
      "A proxy artist may be used instead.\n",
      "See: http://matplotlib.org/users/legend_guide.html#using-proxy-artist\n",
      "  \"#using-proxy-artist\".format(orig_handle)\n",
      "/Users/homayounsadri/anaconda/lib/python3.6/site-packages/matplotlib/legend.py:634: UserWarning: Legend does not support 'i' instances.\n",
      "A proxy artist may be used instead.\n",
      "See: http://matplotlib.org/users/legend_guide.html#using-proxy-artist\n",
      "  \"#using-proxy-artist\".format(orig_handle)\n",
      "/Users/homayounsadri/anaconda/lib/python3.6/site-packages/matplotlib/legend.py:634: UserWarning: Legend does not support 'n' instances.\n",
      "A proxy artist may be used instead.\n",
      "See: http://matplotlib.org/users/legend_guide.html#using-proxy-artist\n",
      "  \"#using-proxy-artist\".format(orig_handle)\n"
     ]
    },
    {
     "data": {
      "image/png": "[encoded data removed]",
      "text/plain": [
       "<matplotlib.figure.Figure at 0x112c9d860>"
      ]
     },
     "metadata": {},
     "output_type": "display_data"
    }
   ],
   "source": [
    "score_over_train =[]\n",
    "score_over_cv = []\n",
    "\n",
    "# we don't expect the score diverge, b.c. we're reducing the complexity of model, like k in knn\n",
    "\n",
    "for i in range(1,40):\n",
    "    clf_rf = RandomForestClassifier(n_estimators= i, max_depth = 5)\n",
    "\n",
    "    clf_rf = clf_rf.fit(X_train, y_train)\n",
    "\n",
    "    y_pred_cv = clf_rf.predict(X_cv)\n",
    "\n",
    "    score_cv=[metrics.accuracy_score(y_cv[targets[i]], y_pred_cv[:,i]) for i in range(len(targets))]\n",
    "    \n",
    "    y_pred_train = clf_rf.predict(X_train)\n",
    "    \n",
    "    score_train=[metrics.accuracy_score(y_train[targets[i]], y_pred_train[:,i]) for i in range(len(targets))]\n",
    "    \n",
    "    score_over_train.append(np.mean(score_train))\n",
    "    score_over_cv.append(np.mean(score_cv))\n",
    "\n",
    "plt.plot(range(1,40),score_over_train,'r',range(1,40),score_over_cv,'b')\n",
    "plt.legend('train','cross validation')\n",
    "plt.xlabel('Number of estimators')\n",
    "plt.ylabel('Score')\n",
    "plt.grid()\n",
    "plt.show()"
   ]
  },
  {
   "cell_type": "code",
   "execution_count": 26,
   "metadata": {
    "collapsed": true
   },
   "outputs": [
    {
     "name": "stderr",
     "output_type": "stream",
     "text": [
      "/Users/homayounsadri/anaconda/lib/python3.6/site-packages/matplotlib/legend.py:634: UserWarning: Legend does not support 't' instances.\n",
      "A proxy artist may be used instead.\n",
      "See: http://matplotlib.org/users/legend_guide.html#using-proxy-artist\n",
      "  \"#using-proxy-artist\".format(orig_handle)\n",
      "/Users/homayounsadri/anaconda/lib/python3.6/site-packages/matplotlib/legend.py:634: UserWarning: Legend does not support 'r' instances.\n",
      "A proxy artist may be used instead.\n",
      "See: http://matplotlib.org/users/legend_guide.html#using-proxy-artist\n",
      "  \"#using-proxy-artist\".format(orig_handle)\n",
      "/Users/homayounsadri/anaconda/lib/python3.6/site-packages/matplotlib/legend.py:634: UserWarning: Legend does not support 'a' instances.\n",
      "A proxy artist may be used instead.\n",
      "See: http://matplotlib.org/users/legend_guide.html#using-proxy-artist\n",
      "  \"#using-proxy-artist\".format(orig_handle)\n",
      "/Users/homayounsadri/anaconda/lib/python3.6/site-packages/matplotlib/legend.py:634: UserWarning: Legend does not support 'i' instances.\n",
      "A proxy artist may be used instead.\n",
      "See: http://matplotlib.org/users/legend_guide.html#using-proxy-artist\n",
      "  \"#using-proxy-artist\".format(orig_handle)\n",
      "/Users/homayounsadri/anaconda/lib/python3.6/site-packages/matplotlib/legend.py:634: UserWarning: Legend does not support 'n' instances.\n",
      "A proxy artist may be used instead.\n",
      "See: http://matplotlib.org/users/legend_guide.html#using-proxy-artist\n",
      "  \"#using-proxy-artist\".format(orig_handle)\n"
     ]
    },
    {
     "data": {
      "image/png": "[encoded data removed]",
      "text/plain": [
       "<matplotlib.figure.Figure at 0x113ef6e10>"
      ]
     },
     "metadata": {},
     "output_type": "display_data"
    }
   ],
   "source": [
    "score_over_train =[]\n",
    "score_over_cv = []\n",
    "\n",
    "for i in range(1,40):\n",
    "    clf_rf = RandomForestClassifier(n_estimators= 10, max_depth = i)\n",
    "\n",
    "    clf_rf = clf_rf.fit(X_train, y_train)\n",
    "\n",
    "    y_pred_cv = clf_rf.predict(X_cv)\n",
    "\n",
    "    score_cv=[metrics.accuracy_score(y_cv[targets[i]], y_pred_cv[:,i]) for i in range(len(targets))]\n",
    "    \n",
    "    y_pred_train = clf_rf.predict(X_train)\n",
    "    \n",
    "    score_train=[metrics.accuracy_score(y_train[targets[i]], y_pred_train[:,i]) for i in range(len(targets))]\n",
    "    \n",
    "    score_over_train.append(np.mean(score_train))\n",
    "    score_over_cv.append(np.mean(score_cv))\n",
    "\n",
    "plt.plot(range(1,40),score_over_train,'r',range(1,40),score_over_cv,'b')\n",
    "plt.legend('train','cross validation')\n",
    "plt.xlabel('Maximum Depth')\n",
    "plt.ylabel('Score')\n",
    "plt.grid()\n",
    "plt.show()"
   ]
  },
  {
   "cell_type": "code",
   "execution_count": 27,
   "metadata": {},
   "outputs": [
    {
     "data": {
      "image/png": "[encoded data removed]",
      "text/plain": [
       "<matplotlib.figure.Figure at 0x113ecd470>"
      ]
     },
     "metadata": {},
     "output_type": "display_data"
    }
   ],
   "source": [
    "plt.plot(range(1,40),score_over_train,'r',range(1,40),score_over_cv,'b')\n",
    "#plt.legend('train','cross validation')\n",
    "plt.xlabel('Maximum Depth')\n",
    "plt.ylabel('Score')\n",
    "plt.grid()\n",
    "plt.show()"
   ]
  },
  {
   "cell_type": "markdown",
   "metadata": {},
   "source": [
    "# Random Forest Optimized"
   ]
  },
  {
   "cell_type": "code",
   "execution_count": 28,
   "metadata": {
    "scrolled": true
   },
   "outputs": [
    {
     "name": "stdout",
     "output_type": "stream",
     "text": [
      "\n",
      "Predictor  A\n",
      "             precision    recall  f1-score   support\n",
      "\n",
      "          0       0.73      0.64      0.68      5384\n",
      "          1       0.71      0.93      0.80     14897\n",
      "          2       0.51      0.01      0.02      3972\n",
      "\n",
      "avg / total       0.68      0.71      0.65     24253\n",
      "\n",
      "\n",
      "Predictor  B\n",
      "             precision    recall  f1-score   support\n",
      "\n",
      "          0       0.58      0.62      0.60     12684\n",
      "          1       0.55      0.50      0.52     11569\n",
      "\n",
      "avg / total       0.56      0.56      0.56     24253\n",
      "\n",
      "\n",
      "Predictor  C\n",
      "             precision    recall  f1-score   support\n",
      "\n",
      "          1       0.76      0.71      0.74      7155\n",
      "          2       0.69      0.57      0.62      5015\n",
      "          3       0.73      0.86      0.79      9676\n",
      "          4       0.74      0.65      0.69      2407\n",
      "\n",
      "avg / total       0.73      0.73      0.73     24253\n",
      "\n",
      "\n",
      "Predictor  D\n",
      "             precision    recall  f1-score   support\n",
      "\n",
      "          1       0.46      0.34      0.39      3145\n",
      "          2       0.44      0.16      0.23      5324\n",
      "          3       0.73      0.92      0.81     15784\n",
      "\n",
      "avg / total       0.63      0.68      0.63     24253\n",
      "\n",
      "\n",
      "Predictor  E\n",
      "             precision    recall  f1-score   support\n",
      "\n",
      "          0       0.72      0.62      0.66     13087\n",
      "          1       0.61      0.71      0.66     11166\n",
      "\n",
      "avg / total       0.67      0.66      0.66     24253\n",
      "\n",
      "\n",
      "Predictor  F\n",
      "             precision    recall  f1-score   support\n",
      "\n",
      "          0       0.78      0.80      0.79      7813\n",
      "          1       0.47      0.14      0.22      5942\n",
      "          2       0.52      0.82      0.63      9089\n",
      "          3       0.50      0.00      0.00      1409\n",
      "\n",
      "avg / total       0.59      0.60      0.55     24253\n",
      "\n",
      "\n",
      "Predictor  G\n",
      "             precision    recall  f1-score   support\n",
      "\n",
      "          1       0.51      0.24      0.32      5071\n",
      "          2       0.52      0.76      0.62      9441\n",
      "          3       0.61      0.65      0.63      7592\n",
      "          4       0.00      0.00      0.00      2149\n",
      "\n",
      "avg / total       0.50      0.55      0.51     24253\n",
      "\n"
     ]
    },
    {
     "data": {
      "image/png": "[encoded data removed]",
      "text/plain": [
       "<matplotlib.figure.Figure at 0x112c97668>"
      ]
     },
     "metadata": {},
     "output_type": "display_data"
    }
   ],
   "source": [
    "clf_rf = RandomForestClassifier(n_estimators= 25, max_depth = 13)\n",
    "\n",
    "clf_rf = clf_rf.fit(X_train, y_train)\n",
    "\n",
    "y_pred = clf_rf.predict(X_test)\n",
    "\n",
    "#y_pred.shape\n",
    "\n",
    "\n",
    "for i in range(len(targets)):\n",
    "    print(\"\\nPredictor \", targets[i])\n",
    "    print(metrics.classification_report(y_test[targets[i]], y_pred[:,i]))\n",
    "\n",
    "score=[metrics.accuracy_score(y_test[targets[i]], y_pred[:,i]) for i in range(len(targets))]\n",
    "index=np.arange(len(targets))\n",
    "label=list(targets)\n",
    "plt.bar(index,score,color='y')\n",
    "plt.xticks(index+0.5, label, rotation='horizontal')\n",
    "plt.xlabel('Target')\n",
    "plt.ylabel('Score')\n",
    "plt.title('Baseline Number of Estimators= 25, Maximum Depth = 13, Score = %f'%np.mean(score))\n",
    "plt.grid()\n",
    "plt.show()"
   ]
  },
  {
   "cell_type": "code",
   "execution_count": 29,
   "metadata": {},
   "outputs": [
    {
     "data": {
      "image/png": "[encoded data removed]",
      "text/plain": [
       "<matplotlib.figure.Figure at 0x113df3198>"
      ]
     },
     "metadata": {},
     "output_type": "display_data"
    }
   ],
   "source": [
    "score=[metrics.accuracy_score(y_test[targets[i]], y_pred[:,i]) for i in range(len(targets))]\n",
    "index=np.arange(len(targets))\n",
    "label=list(targets)\n",
    "plt.bar(index,score,color='y')\n",
    "plt.xticks(index+0.5, label, rotation='horizontal')\n",
    "plt.xlabel('Target')\n",
    "plt.ylabel('Score')\n",
    "plt.title('Number of Estimators= 25, Maximum Depth = 13, Score = %f'%np.mean(score))\n",
    "plt.grid()\n",
    "plt.show()"
   ]
  },
  {
   "cell_type": "code",
   "execution_count": 30,
   "metadata": {
    "scrolled": false
   },
   "outputs": [
    {
     "data": {
      "image/png": "[encoded data removed]",
      "text/plain": [
       "<matplotlib.figure.Figure at 0x117eab860>"
      ]
     },
     "metadata": {},
     "output_type": "display_data"
    }
   ],
   "source": [
    "a = clf_rf.feature_importances_\n",
    "\n",
    "index=np.arange(len(a))\n",
    "label=list(X)\n",
    "plt.barh(index,a,color='b')\n",
    "plt.yticks(index+0.5, label, rotation='horizontal')\n",
    "plt.grid()\n",
    "plt.show()"
   ]
  },
  {
   "cell_type": "code",
   "execution_count": null,
   "metadata": {
    "collapsed": true
   },
   "outputs": [],
   "source": []
  }
 ],
 "metadata": {
  "anaconda-cloud": {},
  "kernelspec": {
   "display_name": "Python 3",
   "language": "python",
   "name": "python3"
  },
  "language_info": {
   "codemirror_mode": {
    "name": "ipython",
    "version": 3
   },
   "file_extension": ".py",
   "mimetype": "text/x-python",
   "name": "python",
   "nbconvert_exporter": "python",
   "pygments_lexer": "ipython3",
   "version": "3.7.0"
  }
 },
 "nbformat": 4,
 "nbformat_minor": 1
}
